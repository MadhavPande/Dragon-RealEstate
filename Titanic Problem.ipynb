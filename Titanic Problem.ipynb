{
 "cells": [
  {
   "cell_type": "code",
   "execution_count": 1,
   "id": "b2de3b03",
   "metadata": {
    "_cell_guid": "b1076dfc-b9ad-4769-8c92-a6c4dae69d19",
    "_uuid": "8f2839f25d086af736a60e9eeb907d3b93b6e0e5",
    "execution": {
     "iopub.execute_input": "2021-12-18T15:47:59.515803Z",
     "iopub.status.busy": "2021-12-18T15:47:59.513147Z",
     "iopub.status.idle": "2021-12-18T15:47:59.523583Z",
     "shell.execute_reply": "2021-12-18T15:47:59.524206Z",
     "shell.execute_reply.started": "2021-12-18T15:47:04.512569Z"
    },
    "papermill": {
     "duration": 0.043352,
     "end_time": "2021-12-18T15:47:59.524493",
     "exception": false,
     "start_time": "2021-12-18T15:47:59.481141",
     "status": "completed"
    },
    "tags": []
   },
   "outputs": [],
   "source": [
    "# This Python 3 environment comes with many helpful analytics libraries installed\n",
    "# It is defined by the kaggle/python Docker image: https://github.com/kaggle/docker-python\n",
    "# For example, here's several helpful packages to load\n",
    "\n",
    "import numpy as np # linear algebra\n",
    "import pandas as pd # data processing, CSV file I/O (e.g. pd.read_csv)\n",
    "\n",
    "# Input data files are available in the read-only \"../input/\" directory\n",
    "# For example, running this (by clicking run or pressing Shift+Enter) will list all files under the input directory\n",
    "\n",
    "import os\n",
    "for dirname, _, filenames in os.walk('/kaggle/input'):\n",
    "    for filename in filenames:\n",
    "        print(os.path.join(dirname, filename))\n",
    "\n",
    "# You can write up to 20GB to the current directory (/kaggle/working/) that gets preserved as output when you create a version using \"Save & Run All\" \n",
    "# You can also write temporary files to /kaggle/temp/, but they won't be saved outside of the current session"
   ]
  },
  {
   "cell_type": "markdown",
   "id": "a49ddb88",
   "metadata": {
    "papermill": {
     "duration": 0.021888,
     "end_time": "2021-12-18T15:47:59.569540",
     "exception": false,
     "start_time": "2021-12-18T15:47:59.547652",
     "status": "completed"
    },
    "tags": []
   },
   "source": [
    "Import Data"
   ]
  },
  {
   "cell_type": "code",
   "execution_count": 2,
   "id": "a99e44e0",
   "metadata": {
    "execution": {
     "iopub.execute_input": "2021-12-18T15:47:59.619584Z",
     "iopub.status.busy": "2021-12-18T15:47:59.618651Z",
     "iopub.status.idle": "2021-12-18T15:47:59.661102Z",
     "shell.execute_reply": "2021-12-18T15:47:59.661915Z",
     "shell.execute_reply.started": "2021-12-18T15:47:04.533030Z"
    },
    "papermill": {
     "duration": 0.070307,
     "end_time": "2021-12-18T15:47:59.662178",
     "exception": false,
     "start_time": "2021-12-18T15:47:59.591871",
     "status": "completed"
    },
    "tags": []
   },
   "outputs": [
    {
     "name": "stdout",
     "output_type": "stream",
     "text": [
      "<class 'pandas.core.frame.DataFrame'>\n",
      "RangeIndex: 891 entries, 0 to 890\n",
      "Data columns (total 12 columns):\n",
      " #   Column       Non-Null Count  Dtype  \n",
      "---  ------       --------------  -----  \n",
      " 0   PassengerId  891 non-null    int64  \n",
      " 1   Survived     891 non-null    int64  \n",
      " 2   Pclass       891 non-null    int64  \n",
      " 3   Name         891 non-null    object \n",
      " 4   Sex          891 non-null    object \n",
      " 5   Age          714 non-null    float64\n",
      " 6   SibSp        891 non-null    int64  \n",
      " 7   Parch        891 non-null    int64  \n",
      " 8   Ticket       891 non-null    object \n",
      " 9   Fare         891 non-null    float64\n",
      " 10  Cabin        204 non-null    object \n",
      " 11  Embarked     889 non-null    object \n",
      "dtypes: float64(2), int64(5), object(5)\n",
      "memory usage: 83.7+ KB\n"
     ]
    }
   ],
   "source": [
    "train = pd.read_csv('train.csv')\n",
    "train.info()"
   ]
  },
  {
   "cell_type": "code",
   "execution_count": 3,
   "id": "34b9f0c2",
   "metadata": {
    "execution": {
     "iopub.execute_input": "2021-12-18T15:47:59.712158Z",
     "iopub.status.busy": "2021-12-18T15:47:59.711166Z",
     "iopub.status.idle": "2021-12-18T15:47:59.733042Z",
     "shell.execute_reply": "2021-12-18T15:47:59.733798Z",
     "shell.execute_reply.started": "2021-12-18T15:47:04.555124Z"
    },
    "papermill": {
     "duration": 0.048691,
     "end_time": "2021-12-18T15:47:59.734072",
     "exception": false,
     "start_time": "2021-12-18T15:47:59.685381",
     "status": "completed"
    },
    "tags": []
   },
   "outputs": [
    {
     "name": "stdout",
     "output_type": "stream",
     "text": [
      "<class 'pandas.core.frame.DataFrame'>\n",
      "RangeIndex: 418 entries, 0 to 417\n",
      "Data columns (total 11 columns):\n",
      " #   Column       Non-Null Count  Dtype  \n",
      "---  ------       --------------  -----  \n",
      " 0   PassengerId  418 non-null    int64  \n",
      " 1   Pclass       418 non-null    int64  \n",
      " 2   Name         418 non-null    object \n",
      " 3   Sex          418 non-null    object \n",
      " 4   Age          332 non-null    float64\n",
      " 5   SibSp        418 non-null    int64  \n",
      " 6   Parch        418 non-null    int64  \n",
      " 7   Ticket       418 non-null    object \n",
      " 8   Fare         417 non-null    float64\n",
      " 9   Cabin        91 non-null     object \n",
      " 10  Embarked     418 non-null    object \n",
      "dtypes: float64(2), int64(4), object(5)\n",
      "memory usage: 36.0+ KB\n"
     ]
    }
   ],
   "source": [
    "test = pd.read_csv('test.csv')\n",
    "test.info()"
   ]
  },
  {
   "cell_type": "code",
   "execution_count": 4,
   "id": "1eafbf2f",
   "metadata": {
    "execution": {
     "iopub.execute_input": "2021-12-18T15:47:59.793228Z",
     "iopub.status.busy": "2021-12-18T15:47:59.792266Z",
     "iopub.status.idle": "2021-12-18T15:47:59.795584Z",
     "shell.execute_reply": "2021-12-18T15:47:59.796139Z",
     "shell.execute_reply.started": "2021-12-18T15:47:04.574019Z"
    },
    "papermill": {
     "duration": 0.038178,
     "end_time": "2021-12-18T15:47:59.796315",
     "exception": false,
     "start_time": "2021-12-18T15:47:59.758137",
     "status": "completed"
    },
    "tags": []
   },
   "outputs": [
    {
     "data": {
      "text/plain": [
       "0    549\n",
       "1    342\n",
       "Name: Survived, dtype: int64"
      ]
     },
     "execution_count": 4,
     "metadata": {},
     "output_type": "execute_result"
    }
   ],
   "source": [
    "train.Survived.value_counts()"
   ]
  },
  {
   "cell_type": "code",
   "execution_count": 5,
   "id": "1b9a8568",
   "metadata": {
    "execution": {
     "iopub.execute_input": "2021-12-18T15:47:59.856812Z",
     "iopub.status.busy": "2021-12-18T15:47:59.856152Z",
     "iopub.status.idle": "2021-12-18T15:47:59.860574Z",
     "shell.execute_reply": "2021-12-18T15:47:59.860025Z",
     "shell.execute_reply.started": "2021-12-18T15:47:04.585729Z"
    },
    "papermill": {
     "duration": 0.039867,
     "end_time": "2021-12-18T15:47:59.860730",
     "exception": false,
     "start_time": "2021-12-18T15:47:59.820863",
     "status": "completed"
    },
    "tags": []
   },
   "outputs": [
    {
     "data": {
      "text/plain": [
       "male      577\n",
       "female    314\n",
       "Name: Sex, dtype: int64"
      ]
     },
     "execution_count": 5,
     "metadata": {},
     "output_type": "execute_result"
    }
   ],
   "source": [
    "train.Sex.value_counts()"
   ]
  },
  {
   "cell_type": "code",
   "execution_count": 6,
   "id": "0fe0d3e9",
   "metadata": {
    "execution": {
     "iopub.execute_input": "2021-12-18T15:47:59.922593Z",
     "iopub.status.busy": "2021-12-18T15:47:59.920161Z",
     "iopub.status.idle": "2021-12-18T15:47:59.928589Z",
     "shell.execute_reply": "2021-12-18T15:47:59.928018Z",
     "shell.execute_reply.started": "2021-12-18T15:47:04.597671Z"
    },
    "papermill": {
     "duration": 0.041439,
     "end_time": "2021-12-18T15:47:59.928759",
     "exception": false,
     "start_time": "2021-12-18T15:47:59.887320",
     "status": "completed"
    },
    "tags": []
   },
   "outputs": [],
   "source": [
    "train.drop(['Name', 'Age', 'Ticket', 'Fare', 'Cabin'], inplace= True, axis = 1)\n",
    "test.drop(['Name', 'Age', 'Ticket', 'Fare', 'Cabin'], inplace = True, axis = 1)"
   ]
  },
  {
   "cell_type": "code",
   "execution_count": 7,
   "id": "1c84cfb9",
   "metadata": {
    "execution": {
     "iopub.execute_input": "2021-12-18T15:47:59.990047Z",
     "iopub.status.busy": "2021-12-18T15:47:59.989364Z",
     "iopub.status.idle": "2021-12-18T15:47:59.994124Z",
     "shell.execute_reply": "2021-12-18T15:47:59.994692Z",
     "shell.execute_reply.started": "2021-12-18T15:47:04.607979Z"
    },
    "papermill": {
     "duration": 0.039652,
     "end_time": "2021-12-18T15:47:59.994904",
     "exception": false,
     "start_time": "2021-12-18T15:47:59.955252",
     "status": "completed"
    },
    "tags": []
   },
   "outputs": [
    {
     "name": "stdout",
     "output_type": "stream",
     "text": [
      "<class 'pandas.core.frame.DataFrame'>\n",
      "RangeIndex: 891 entries, 0 to 890\n",
      "Data columns (total 7 columns):\n",
      " #   Column       Non-Null Count  Dtype \n",
      "---  ------       --------------  ----- \n",
      " 0   PassengerId  891 non-null    int64 \n",
      " 1   Survived     891 non-null    int64 \n",
      " 2   Pclass       891 non-null    int64 \n",
      " 3   Sex          891 non-null    object\n",
      " 4   SibSp        891 non-null    int64 \n",
      " 5   Parch        891 non-null    int64 \n",
      " 6   Embarked     889 non-null    object\n",
      "dtypes: int64(5), object(2)\n",
      "memory usage: 48.9+ KB\n"
     ]
    }
   ],
   "source": [
    "train.info()"
   ]
  },
  {
   "cell_type": "code",
   "execution_count": 8,
   "id": "62d13be0",
   "metadata": {
    "execution": {
     "iopub.execute_input": "2021-12-18T15:48:00.047591Z",
     "iopub.status.busy": "2021-12-18T15:48:00.046867Z",
     "iopub.status.idle": "2021-12-18T15:48:00.053160Z",
     "shell.execute_reply": "2021-12-18T15:48:00.053774Z",
     "shell.execute_reply.started": "2021-12-18T15:47:04.624805Z"
    },
    "papermill": {
     "duration": 0.034187,
     "end_time": "2021-12-18T15:48:00.053980",
     "exception": false,
     "start_time": "2021-12-18T15:48:00.019793",
     "status": "completed"
    },
    "tags": []
   },
   "outputs": [
    {
     "data": {
      "text/plain": [
       "S    644\n",
       "C    168\n",
       "Q     77\n",
       "Name: Embarked, dtype: int64"
      ]
     },
     "execution_count": 8,
     "metadata": {},
     "output_type": "execute_result"
    }
   ],
   "source": [
    "train.Embarked.value_counts()"
   ]
  },
  {
   "cell_type": "code",
   "execution_count": 9,
   "id": "7ac9be87",
   "metadata": {
    "execution": {
     "iopub.execute_input": "2021-12-18T15:48:00.110355Z",
     "iopub.status.busy": "2021-12-18T15:48:00.109504Z",
     "iopub.status.idle": "2021-12-18T15:48:00.114970Z",
     "shell.execute_reply": "2021-12-18T15:48:00.115467Z",
     "shell.execute_reply.started": "2021-12-18T15:47:04.633661Z"
    },
    "papermill": {
     "duration": 0.034754,
     "end_time": "2021-12-18T15:48:00.115629",
     "exception": false,
     "start_time": "2021-12-18T15:48:00.080875",
     "status": "completed"
    },
    "tags": []
   },
   "outputs": [],
   "source": [
    "data = [train,test]\n",
    "for dataset in data:\n",
    "    dataset.Embarked = dataset.Embarked.fillna('S')"
   ]
  },
  {
   "cell_type": "code",
   "execution_count": 10,
   "id": "faecc434",
   "metadata": {
    "execution": {
     "iopub.execute_input": "2021-12-18T15:48:00.168782Z",
     "iopub.status.busy": "2021-12-18T15:48:00.168082Z",
     "iopub.status.idle": "2021-12-18T15:48:00.180345Z",
     "shell.execute_reply": "2021-12-18T15:48:00.179816Z",
     "shell.execute_reply.started": "2021-12-18T15:47:04.645707Z"
    },
    "papermill": {
     "duration": 0.039956,
     "end_time": "2021-12-18T15:48:00.180485",
     "exception": false,
     "start_time": "2021-12-18T15:48:00.140529",
     "status": "completed"
    },
    "tags": []
   },
   "outputs": [
    {
     "name": "stdout",
     "output_type": "stream",
     "text": [
      "<class 'pandas.core.frame.DataFrame'>\n",
      "RangeIndex: 891 entries, 0 to 890\n",
      "Data columns (total 7 columns):\n",
      " #   Column       Non-Null Count  Dtype \n",
      "---  ------       --------------  ----- \n",
      " 0   PassengerId  891 non-null    int64 \n",
      " 1   Survived     891 non-null    int64 \n",
      " 2   Pclass       891 non-null    int64 \n",
      " 3   Sex          891 non-null    object\n",
      " 4   SibSp        891 non-null    int64 \n",
      " 5   Parch        891 non-null    int64 \n",
      " 6   Embarked     891 non-null    object\n",
      "dtypes: int64(5), object(2)\n",
      "memory usage: 48.9+ KB\n"
     ]
    }
   ],
   "source": [
    "train.info()"
   ]
  },
  {
   "cell_type": "code",
   "execution_count": 11,
   "id": "43ab8221",
   "metadata": {
    "execution": {
     "iopub.execute_input": "2021-12-18T15:48:00.234215Z",
     "iopub.status.busy": "2021-12-18T15:48:00.233560Z",
     "iopub.status.idle": "2021-12-18T15:48:00.240122Z",
     "shell.execute_reply": "2021-12-18T15:48:00.240739Z",
     "shell.execute_reply.started": "2021-12-18T15:47:04.662974Z"
    },
    "papermill": {
     "duration": 0.034994,
     "end_time": "2021-12-18T15:48:00.240919",
     "exception": false,
     "start_time": "2021-12-18T15:48:00.205925",
     "status": "completed"
    },
    "tags": []
   },
   "outputs": [
    {
     "data": {
      "text/plain": [
       "male      577\n",
       "female    314\n",
       "Name: Sex, dtype: int64"
      ]
     },
     "execution_count": 11,
     "metadata": {},
     "output_type": "execute_result"
    }
   ],
   "source": [
    "train['Sex'].value_counts()"
   ]
  },
  {
   "cell_type": "code",
   "execution_count": 12,
   "id": "373bf812",
   "metadata": {
    "execution": {
     "iopub.execute_input": "2021-12-18T15:48:00.298056Z",
     "iopub.status.busy": "2021-12-18T15:48:00.297408Z",
     "iopub.status.idle": "2021-12-18T15:48:00.303663Z",
     "shell.execute_reply": "2021-12-18T15:48:00.304169Z",
     "shell.execute_reply.started": "2021-12-18T15:47:04.677008Z"
    },
    "papermill": {
     "duration": 0.036413,
     "end_time": "2021-12-18T15:48:00.304333",
     "exception": false,
     "start_time": "2021-12-18T15:48:00.267920",
     "status": "completed"
    },
    "tags": []
   },
   "outputs": [],
   "source": [
    "genderMap = {\"male\": 0, \"female\": 1}\n",
    "data = [train,test]\n",
    "\n",
    "for dataset in data:\n",
    "    dataset[\"Sex\"] = dataset['Sex'].map(genderMap)"
   ]
  },
  {
   "cell_type": "code",
   "execution_count": 13,
   "id": "ee707dd8",
   "metadata": {
    "execution": {
     "iopub.execute_input": "2021-12-18T15:48:00.368200Z",
     "iopub.status.busy": "2021-12-18T15:48:00.367491Z",
     "iopub.status.idle": "2021-12-18T15:48:00.370601Z",
     "shell.execute_reply": "2021-12-18T15:48:00.371143Z",
     "shell.execute_reply.started": "2021-12-18T15:47:04.688810Z"
    },
    "papermill": {
     "duration": 0.040943,
     "end_time": "2021-12-18T15:48:00.371335",
     "exception": false,
     "start_time": "2021-12-18T15:48:00.330392",
     "status": "completed"
    },
    "tags": []
   },
   "outputs": [
    {
     "data": {
      "text/plain": [
       "0    577\n",
       "1    314\n",
       "Name: Sex, dtype: int64"
      ]
     },
     "execution_count": 13,
     "metadata": {},
     "output_type": "execute_result"
    }
   ],
   "source": [
    "train['Sex'].value_counts()"
   ]
  },
  {
   "cell_type": "code",
   "execution_count": 14,
   "id": "ecfd627a",
   "metadata": {
    "execution": {
     "iopub.execute_input": "2021-12-18T15:48:00.431084Z",
     "iopub.status.busy": "2021-12-18T15:48:00.430404Z",
     "iopub.status.idle": "2021-12-18T15:48:00.433957Z",
     "shell.execute_reply": "2021-12-18T15:48:00.434404Z",
     "shell.execute_reply.started": "2021-12-18T15:47:04.702052Z"
    },
    "papermill": {
     "duration": 0.03737,
     "end_time": "2021-12-18T15:48:00.434577",
     "exception": false,
     "start_time": "2021-12-18T15:48:00.397207",
     "status": "completed"
    },
    "tags": []
   },
   "outputs": [
    {
     "data": {
      "text/plain": [
       "S    646\n",
       "C    168\n",
       "Q     77\n",
       "Name: Embarked, dtype: int64"
      ]
     },
     "execution_count": 14,
     "metadata": {},
     "output_type": "execute_result"
    }
   ],
   "source": [
    "train['Embarked'].value_counts()"
   ]
  },
  {
   "cell_type": "code",
   "execution_count": 15,
   "id": "fb798568",
   "metadata": {
    "execution": {
     "iopub.execute_input": "2021-12-18T15:48:00.494757Z",
     "iopub.status.busy": "2021-12-18T15:48:00.489625Z",
     "iopub.status.idle": "2021-12-18T15:48:00.497541Z",
     "shell.execute_reply": "2021-12-18T15:48:00.497996Z",
     "shell.execute_reply.started": "2021-12-18T15:47:04.712667Z"
    },
    "papermill": {
     "duration": 0.037583,
     "end_time": "2021-12-18T15:48:00.498178",
     "exception": false,
     "start_time": "2021-12-18T15:48:00.460595",
     "status": "completed"
    },
    "tags": []
   },
   "outputs": [],
   "source": [
    "embarkedMap = {\"S\": 0, \"C\": 1, \"Q\":2}\n",
    "data= [train,test]\n",
    "\n",
    "for dataset in data:\n",
    "    dataset[\"Embarked\"] = dataset[\"Embarked\"].map(embarkedMap)"
   ]
  },
  {
   "cell_type": "code",
   "execution_count": 16,
   "id": "a3706e27",
   "metadata": {
    "execution": {
     "iopub.execute_input": "2021-12-18T15:48:00.558441Z",
     "iopub.status.busy": "2021-12-18T15:48:00.557752Z",
     "iopub.status.idle": "2021-12-18T15:48:00.561612Z",
     "shell.execute_reply": "2021-12-18T15:48:00.561091Z",
     "shell.execute_reply.started": "2021-12-18T15:47:04.720649Z"
    },
    "papermill": {
     "duration": 0.036658,
     "end_time": "2021-12-18T15:48:00.561783",
     "exception": false,
     "start_time": "2021-12-18T15:48:00.525125",
     "status": "completed"
    },
    "tags": []
   },
   "outputs": [
    {
     "data": {
      "text/plain": [
       "0    646\n",
       "1    168\n",
       "2     77\n",
       "Name: Embarked, dtype: int64"
      ]
     },
     "execution_count": 16,
     "metadata": {},
     "output_type": "execute_result"
    }
   ],
   "source": [
    "train['Embarked'].value_counts()"
   ]
  },
  {
   "cell_type": "code",
   "execution_count": 17,
   "id": "ead4c49f",
   "metadata": {
    "execution": {
     "iopub.execute_input": "2021-12-18T15:48:00.618815Z",
     "iopub.status.busy": "2021-12-18T15:48:00.618182Z",
     "iopub.status.idle": "2021-12-18T15:48:00.630822Z",
     "shell.execute_reply": "2021-12-18T15:48:00.631322Z",
     "shell.execute_reply.started": "2021-12-18T15:47:04.734579Z"
    },
    "papermill": {
     "duration": 0.042341,
     "end_time": "2021-12-18T15:48:00.631505",
     "exception": false,
     "start_time": "2021-12-18T15:48:00.589164",
     "status": "completed"
    },
    "tags": []
   },
   "outputs": [
    {
     "name": "stdout",
     "output_type": "stream",
     "text": [
      "<class 'pandas.core.frame.DataFrame'>\n",
      "RangeIndex: 891 entries, 0 to 890\n",
      "Data columns (total 7 columns):\n",
      " #   Column       Non-Null Count  Dtype\n",
      "---  ------       --------------  -----\n",
      " 0   PassengerId  891 non-null    int64\n",
      " 1   Survived     891 non-null    int64\n",
      " 2   Pclass       891 non-null    int64\n",
      " 3   Sex          891 non-null    int64\n",
      " 4   SibSp        891 non-null    int64\n",
      " 5   Parch        891 non-null    int64\n",
      " 6   Embarked     891 non-null    int64\n",
      "dtypes: int64(7)\n",
      "memory usage: 48.9 KB\n"
     ]
    }
   ],
   "source": [
    "train.info()"
   ]
  },
  {
   "cell_type": "code",
   "execution_count": 18,
   "id": "9efa64c6",
   "metadata": {
    "execution": {
     "iopub.execute_input": "2021-12-18T15:48:00.689090Z",
     "iopub.status.busy": "2021-12-18T15:48:00.688432Z",
     "iopub.status.idle": "2021-12-18T15:48:00.702586Z",
     "shell.execute_reply": "2021-12-18T15:48:00.703155Z",
     "shell.execute_reply.started": "2021-12-18T15:47:04.764202Z"
    },
    "papermill": {
     "duration": 0.045182,
     "end_time": "2021-12-18T15:48:00.703338",
     "exception": false,
     "start_time": "2021-12-18T15:48:00.658156",
     "status": "completed"
    },
    "tags": []
   },
   "outputs": [
    {
     "name": "stdout",
     "output_type": "stream",
     "text": [
      "<class 'pandas.core.frame.DataFrame'>\n",
      "RangeIndex: 418 entries, 0 to 417\n",
      "Data columns (total 6 columns):\n",
      " #   Column       Non-Null Count  Dtype\n",
      "---  ------       --------------  -----\n",
      " 0   PassengerId  418 non-null    int64\n",
      " 1   Pclass       418 non-null    int64\n",
      " 2   Sex          418 non-null    int64\n",
      " 3   SibSp        418 non-null    int64\n",
      " 4   Parch        418 non-null    int64\n",
      " 5   Embarked     418 non-null    int64\n",
      "dtypes: int64(6)\n",
      "memory usage: 19.7 KB\n"
     ]
    }
   ],
   "source": [
    "test.info()"
   ]
  },
  {
   "cell_type": "code",
   "execution_count": 19,
   "id": "cff634c2",
   "metadata": {
    "execution": {
     "iopub.execute_input": "2021-12-18T15:48:00.763294Z",
     "iopub.status.busy": "2021-12-18T15:48:00.759800Z",
     "iopub.status.idle": "2021-12-18T15:48:00.766474Z",
     "shell.execute_reply": "2021-12-18T15:48:00.766997Z",
     "shell.execute_reply.started": "2021-12-18T15:47:04.777348Z"
    },
    "papermill": {
     "duration": 0.036791,
     "end_time": "2021-12-18T15:48:00.767176",
     "exception": false,
     "start_time": "2021-12-18T15:48:00.730385",
     "status": "completed"
    },
    "tags": []
   },
   "outputs": [],
   "source": [
    "x_train = train.drop(['Survived','PassengerId'], axis=1)\n",
    "y_train = train['Survived']"
   ]
  },
  {
   "cell_type": "code",
   "execution_count": 20,
   "id": "6593828e",
   "metadata": {
    "execution": {
     "iopub.execute_input": "2021-12-18T15:48:00.824513Z",
     "iopub.status.busy": "2021-12-18T15:48:00.823825Z",
     "iopub.status.idle": "2021-12-18T15:48:00.828392Z",
     "shell.execute_reply": "2021-12-18T15:48:00.828961Z",
     "shell.execute_reply.started": "2021-12-18T15:47:04.790293Z"
    },
    "papermill": {
     "duration": 0.035017,
     "end_time": "2021-12-18T15:48:00.829139",
     "exception": false,
     "start_time": "2021-12-18T15:48:00.794122",
     "status": "completed"
    },
    "tags": []
   },
   "outputs": [],
   "source": [
    "x_test = test.drop(['PassengerId'],axis =1)"
   ]
  },
  {
   "cell_type": "markdown",
   "id": "c219fcc0",
   "metadata": {
    "papermill": {
     "duration": 0.026875,
     "end_time": "2021-12-18T15:48:00.884323",
     "exception": false,
     "start_time": "2021-12-18T15:48:00.857448",
     "status": "completed"
    },
    "tags": []
   },
   "source": [
    "Model Selection"
   ]
  },
  {
   "cell_type": "code",
   "execution_count": 21,
   "id": "f1e20c39",
   "metadata": {
    "execution": {
     "iopub.execute_input": "2021-12-18T15:48:00.941468Z",
     "iopub.status.busy": "2021-12-18T15:48:00.940802Z",
     "iopub.status.idle": "2021-12-18T15:48:02.148107Z",
     "shell.execute_reply": "2021-12-18T15:48:02.147542Z",
     "shell.execute_reply.started": "2021-12-18T15:47:04.800710Z"
    },
    "papermill": {
     "duration": 1.237041,
     "end_time": "2021-12-18T15:48:02.148253",
     "exception": false,
     "start_time": "2021-12-18T15:48:00.911212",
     "status": "completed"
    },
    "tags": []
   },
   "outputs": [],
   "source": [
    "from sklearn.linear_model import LogisticRegression\n",
    "model = LogisticRegression(random_state=42)\n",
    "\n",
    "model.fit(x_train,y_train)\n",
    "\n",
    "y_pred = model.predict(x_test)"
   ]
  },
  {
   "cell_type": "code",
   "execution_count": 22,
   "id": "f7334ebb",
   "metadata": {
    "execution": {
     "iopub.execute_input": "2021-12-18T15:48:02.209061Z",
     "iopub.status.busy": "2021-12-18T15:48:02.208182Z",
     "iopub.status.idle": "2021-12-18T15:48:02.211692Z",
     "shell.execute_reply": "2021-12-18T15:48:02.212207Z",
     "shell.execute_reply.started": "2021-12-18T15:47:05.219572Z"
    },
    "papermill": {
     "duration": 0.036809,
     "end_time": "2021-12-18T15:48:02.212376",
     "exception": false,
     "start_time": "2021-12-18T15:48:02.175567",
     "status": "completed"
    },
    "tags": []
   },
   "outputs": [
    {
     "name": "stdout",
     "output_type": "stream",
     "text": [
      "[0 1 0 0 1 0 1 0 1 0 0 0 1 0 1 1 0 0 1 1 0 0 1 0 1 0 1 0 0 0 0 0 1 1 0 0 1\n",
      " 1 0 0 0 0 0 1 1 0 0 0 1 1 0 0 1 1 0 0 0 0 0 1 0 0 0 1 0 1 1 0 0 1 1 0 1 0\n",
      " 1 0 0 1 0 1 0 0 0 0 0 0 1 1 1 0 1 0 1 0 0 0 1 0 1 0 1 0 0 0 1 0 0 0 0 0 0\n",
      " 1 1 1 1 0 0 1 0 1 1 0 1 0 0 1 0 1 0 0 0 0 1 0 0 0 0 0 1 0 0 1 0 0 0 0 0 0\n",
      " 0 0 1 0 0 1 0 0 1 1 0 1 1 0 1 0 0 1 0 0 1 1 0 0 0 0 0 1 1 0 1 1 0 0 1 0 1\n",
      " 0 1 0 0 0 0 0 0 0 0 0 0 1 0 1 1 0 0 1 0 0 1 0 1 0 0 0 0 1 0 0 1 0 1 0 1 0\n",
      " 1 0 1 1 0 1 0 0 0 1 0 0 0 0 0 0 1 1 1 1 0 0 0 0 1 0 1 1 1 0 0 0 0 0 0 0 1\n",
      " 0 0 0 1 1 0 0 0 0 1 0 0 0 1 1 0 1 0 0 0 0 1 0 1 1 1 0 0 0 0 0 0 1 0 0 0 0\n",
      " 1 0 0 0 0 0 0 0 1 1 0 0 0 1 0 0 0 1 1 1 0 0 0 0 0 0 0 0 1 0 1 0 0 0 1 0 0\n",
      " 1 0 0 0 0 0 0 0 0 0 1 0 1 0 1 0 1 1 0 0 0 1 0 1 0 0 1 0 1 1 0 1 1 0 1 1 0\n",
      " 0 1 0 0 1 1 1 0 0 0 0 0 1 1 0 1 0 0 0 0 0 1 0 0 0 1 0 1 0 0 1 0 1 0 0 0 0\n",
      " 0 1 1 1 1 1 0 1 0 0 0]\n"
     ]
    }
   ],
   "source": [
    "print(y_pred)"
   ]
  },
  {
   "cell_type": "markdown",
   "id": "6eba929e",
   "metadata": {
    "papermill": {
     "duration": 0.02733,
     "end_time": "2021-12-18T15:48:02.268266",
     "exception": false,
     "start_time": "2021-12-18T15:48:02.240936",
     "status": "completed"
    },
    "tags": []
   },
   "source": [
    "**Evaluation of Model**"
   ]
  },
  {
   "cell_type": "markdown",
   "id": "aadc807a",
   "metadata": {
    "execution": {
     "iopub.execute_input": "2021-12-18T11:10:53.636401Z",
     "iopub.status.busy": "2021-12-18T11:10:53.636023Z",
     "iopub.status.idle": "2021-12-18T11:10:53.726322Z",
     "shell.execute_reply": "2021-12-18T11:10:53.72544Z",
     "shell.execute_reply.started": "2021-12-18T11:10:53.636311Z"
    },
    "papermill": {
     "duration": 0.026859,
     "end_time": "2021-12-18T15:48:02.322276",
     "exception": false,
     "start_time": "2021-12-18T15:48:02.295417",
     "status": "completed"
    },
    "tags": []
   },
   "source": [
    "\n"
   ]
  },
  {
   "cell_type": "code",
   "execution_count": 23,
   "id": "084d4957",
   "metadata": {
    "execution": {
     "iopub.execute_input": "2021-12-18T15:48:02.382540Z",
     "iopub.status.busy": "2021-12-18T15:48:02.381554Z",
     "iopub.status.idle": "2021-12-18T15:48:02.389705Z",
     "shell.execute_reply": "2021-12-18T15:48:02.389190Z",
     "shell.execute_reply.started": "2021-12-18T15:47:05.226894Z"
    },
    "papermill": {
     "duration": 0.038783,
     "end_time": "2021-12-18T15:48:02.389859",
     "exception": false,
     "start_time": "2021-12-18T15:48:02.351076",
     "status": "completed"
    },
    "tags": []
   },
   "outputs": [
    {
     "name": "stdout",
     "output_type": "stream",
     "text": [
      "80.25\n"
     ]
    }
   ],
   "source": [
    "acc_logistic = round(model.score(x_train,y_train)*100,2)\n",
    "print(acc_logistic)"
   ]
  },
  {
   "cell_type": "markdown",
   "id": "c4a5df3d",
   "metadata": {
    "papermill": {
     "duration": 0.027342,
     "end_time": "2021-12-18T15:48:02.444738",
     "exception": false,
     "start_time": "2021-12-18T15:48:02.417396",
     "status": "completed"
    },
    "tags": []
   },
   "source": [
    "Submission"
   ]
  },
  {
   "cell_type": "code",
   "execution_count": 25,
   "id": "0f61fbaf",
   "metadata": {
    "execution": {
     "iopub.execute_input": "2021-12-18T15:48:02.503577Z",
     "iopub.status.busy": "2021-12-18T15:48:02.502932Z",
     "iopub.status.idle": "2021-12-18T15:48:02.512803Z",
     "shell.execute_reply": "2021-12-18T15:48:02.513390Z",
     "shell.execute_reply.started": "2021-12-18T15:47:05.238970Z"
    },
    "papermill": {
     "duration": 0.0413,
     "end_time": "2021-12-18T15:48:02.513566",
     "exception": false,
     "start_time": "2021-12-18T15:48:02.472266",
     "status": "completed"
    },
    "tags": []
   },
   "outputs": [
    {
     "name": "stdout",
     "output_type": "stream",
     "text": [
      "Done\n"
     ]
    }
   ],
   "source": [
    "output = pd.DataFrame({'PassengerId': test.PassengerId, 'Survived': y_pred})\n",
    "output.to_csv('firstSubmission.csv', index = False)\n",
    "print('Done')"
   ]
  },
  {
   "cell_type": "code",
   "execution_count": 26,
   "id": "fbe73533",
   "metadata": {},
   "outputs": [
    {
     "ename": "NameError",
     "evalue": "name 'pickle' is not defined",
     "output_type": "error",
     "traceback": [
      "\u001b[1;31m---------------------------------------------------------------------------\u001b[0m",
      "\u001b[1;31mNameError\u001b[0m                                 Traceback (most recent call last)",
      "\u001b[1;32mC:\\Users\\MADHAV~1\\AppData\\Local\\Temp/ipykernel_9948/752014067.py\u001b[0m in \u001b[0;36m<module>\u001b[1;34m\u001b[0m\n\u001b[1;32m----> 1\u001b[1;33m \u001b[0mpickle\u001b[0m\u001b[1;33m.\u001b[0m\u001b[0mdump\u001b[0m\u001b[1;33m(\u001b[0m\u001b[0mlog_model\u001b[0m\u001b[1;33m,\u001b[0m \u001b[0mopen\u001b[0m\u001b[1;33m(\u001b[0m\u001b[1;34m\"Titanic Problem.sav\"\u001b[0m\u001b[1;33m,\u001b[0m\u001b[1;34m\"wb\"\u001b[0m\u001b[1;33m)\u001b[0m\u001b[1;33m)\u001b[0m\u001b[1;33m\u001b[0m\u001b[1;33m\u001b[0m\u001b[0m\n\u001b[0m\u001b[0;32m      2\u001b[0m \u001b[0mpickle\u001b[0m\u001b[1;33m.\u001b[0m\u001b[0mdump\u001b[0m\u001b[1;33m(\u001b[0m\u001b[0msc\u001b[0m\u001b[1;33m,\u001b[0m \u001b[0mopen\u001b[0m\u001b[1;33m(\u001b[0m\u001b[1;34m\"scaler.sav\"\u001b[0m\u001b[1;33m,\u001b[0m\u001b[1;34m\"wb\"\u001b[0m\u001b[1;33m)\u001b[0m\u001b[1;33m)\u001b[0m\u001b[1;33m\u001b[0m\u001b[1;33m\u001b[0m\u001b[0m\n",
      "\u001b[1;31mNameError\u001b[0m: name 'pickle' is not defined"
     ]
    }
   ],
   "source": [
    "pickle.dump(log_model, open(\"Titanic Problem.sav\",\"wb\"))\n",
    "pickle.dump(sc, open(\"scaler.sav\",\"wb\"))"
   ]
  },
  {
   "cell_type": "code",
   "execution_count": null,
   "id": "578d3f82",
   "metadata": {},
   "outputs": [],
   "source": []
  }
 ],
 "metadata": {
  "kernelspec": {
   "display_name": "Python 3 (ipykernel)",
   "language": "python",
   "name": "python3"
  },
  "language_info": {
   "codemirror_mode": {
    "name": "ipython",
    "version": 3
   },
   "file_extension": ".py",
   "mimetype": "text/x-python",
   "name": "python",
   "nbconvert_exporter": "python",
   "pygments_lexer": "ipython3",
   "version": "3.9.2"
  },
  "papermill": {
   "default_parameters": {},
   "duration": 13.81802,
   "end_time": "2021-12-18T15:48:03.252518",
   "environment_variables": {},
   "exception": null,
   "input_path": "__notebook__.ipynb",
   "output_path": "__notebook__.ipynb",
   "parameters": {},
   "start_time": "2021-12-18T15:47:49.434498",
   "version": "2.3.3"
  }
 },
 "nbformat": 4,
 "nbformat_minor": 5
}
